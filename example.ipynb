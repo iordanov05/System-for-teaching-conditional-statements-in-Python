{
 "cells": [
  {
   "cell_type": "code",
   "execution_count": null,
   "metadata": {
    "vscode": {
     "languageId": "plaintext"
    }
   },
   "outputs": [],
   "source": [
    "if season == 'winter':\n",
    "    wear_winter_suit()\n",
    "    if activity == 'skiing':\n",
    "        take_skis()\n",
    "    elif activity == 'skating':\n",
    "        take_skates()\n",
    "elif season == 'spring':\n",
    "    wear_raincoat_suit()\n",
    "    if activity == 'launch_paper_boats':\n",
    "        take_boat()\n",
    "    elif activity == 'go_fishing':\n",
    "        take_fishing_rod()\n",
    "elif season == 'summer':\n",
    "    if activity == 'swimming':\n",
    "        wear_swimming_suit()\n",
    "        take_swimming_equipment()\n",
    "    elif activity == 'football':\n",
    "        wear_football_suit()\n",
    "        take_ball()\n",
    "elif season == 'autumn':\n",
    "    if activity == 'walk_in_the_rain':\n",
    "        wear_raincoat_suit()\n",
    "        take_umbrella()\n",
    "    elif activity == 'go_to_school':\n",
    "        wear_school_suit()\n",
    "        take_backpack() "
   ]
  },
  {
   "cell_type": "markdown",
   "metadata": {},
   "source": [
    "Пример рабочего кода для правильной работы платофрмы "
   ]
  }
 ],
 "metadata": {
  "language_info": {
   "name": "python"
  }
 },
 "nbformat": 4,
 "nbformat_minor": 2
}
